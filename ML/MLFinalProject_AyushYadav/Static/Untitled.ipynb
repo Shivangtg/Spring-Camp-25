{
 "cells": [
  {
   "cell_type": "code",
   "execution_count": 39,
   "id": "e06e7619-4fb7-4212-857c-25c78e1e25a4",
   "metadata": {},
   "outputs": [
    {
     "ename": "ImportError",
     "evalue": "DLL load failed while importing _framework_bindings: A dynamic link library (DLL) initialization routine failed.",
     "output_type": "error",
     "traceback": [
      "\u001b[1;31m---------------------------------------------------------------------------\u001b[0m",
      "\u001b[1;31mImportError\u001b[0m                               Traceback (most recent call last)",
      "Cell \u001b[1;32mIn[39], line 5\u001b[0m\n\u001b[0;32m      3\u001b[0m \u001b[38;5;28;01mimport\u001b[39;00m \u001b[38;5;21;01mnumpy\u001b[39;00m \u001b[38;5;28;01mas\u001b[39;00m \u001b[38;5;21;01mnp\u001b[39;00m\n\u001b[0;32m      4\u001b[0m \u001b[38;5;28;01mimport\u001b[39;00m \u001b[38;5;21;01mcv2\u001b[39;00m\n\u001b[1;32m----> 5\u001b[0m \u001b[38;5;28;01mimport\u001b[39;00m \u001b[38;5;21;01mmediapipe\u001b[39;00m \u001b[38;5;28;01mas\u001b[39;00m \u001b[38;5;21;01mmp\u001b[39;00m\n",
      "File \u001b[1;32m~\\AppData\\Local\\Programs\\Python\\Python312\\Lib\\site-packages\\mediapipe\\__init__.py:15\u001b[0m\n\u001b[0;32m      1\u001b[0m \u001b[38;5;66;03m# Copyright 2019 - 2022 The MediaPipe Authors.\u001b[39;00m\n\u001b[0;32m      2\u001b[0m \u001b[38;5;66;03m#\u001b[39;00m\n\u001b[0;32m      3\u001b[0m \u001b[38;5;66;03m# Licensed under the Apache License, Version 2.0 (the \"License\");\u001b[39;00m\n\u001b[1;32m   (...)\u001b[0m\n\u001b[0;32m     12\u001b[0m \u001b[38;5;66;03m# See the License for the specific language governing permissions and\u001b[39;00m\n\u001b[0;32m     13\u001b[0m \u001b[38;5;66;03m# limitations under the License.\u001b[39;00m\n\u001b[1;32m---> 15\u001b[0m \u001b[38;5;28;01mfrom\u001b[39;00m \u001b[38;5;21;01mmediapipe\u001b[39;00m\u001b[38;5;21;01m.\u001b[39;00m\u001b[38;5;21;01mpython\u001b[39;00m \u001b[38;5;28;01mimport\u001b[39;00m \u001b[38;5;241m*\u001b[39m\n\u001b[0;32m     16\u001b[0m \u001b[38;5;28;01mimport\u001b[39;00m \u001b[38;5;21;01mmediapipe\u001b[39;00m\u001b[38;5;21;01m.\u001b[39;00m\u001b[38;5;21;01mpython\u001b[39;00m\u001b[38;5;21;01m.\u001b[39;00m\u001b[38;5;21;01msolutions\u001b[39;00m \u001b[38;5;28;01mas\u001b[39;00m \u001b[38;5;21;01msolutions\u001b[39;00m \n\u001b[0;32m     17\u001b[0m \u001b[38;5;28;01mimport\u001b[39;00m \u001b[38;5;21;01mmediapipe\u001b[39;00m\u001b[38;5;21;01m.\u001b[39;00m\u001b[38;5;21;01mtasks\u001b[39;00m\u001b[38;5;21;01m.\u001b[39;00m\u001b[38;5;21;01mpython\u001b[39;00m \u001b[38;5;28;01mas\u001b[39;00m \u001b[38;5;21;01mtasks\u001b[39;00m\n",
      "File \u001b[1;32m~\\AppData\\Local\\Programs\\Python\\Python312\\Lib\\site-packages\\mediapipe\\python\\__init__.py:17\u001b[0m\n\u001b[0;32m      1\u001b[0m \u001b[38;5;66;03m# Copyright 2020-2021 The MediaPipe Authors.\u001b[39;00m\n\u001b[0;32m      2\u001b[0m \u001b[38;5;66;03m#\u001b[39;00m\n\u001b[0;32m      3\u001b[0m \u001b[38;5;66;03m# Licensed under the Apache License, Version 2.0 (the \"License\");\u001b[39;00m\n\u001b[1;32m   (...)\u001b[0m\n\u001b[0;32m     12\u001b[0m \u001b[38;5;66;03m# See the License for the specific language governing permissions and\u001b[39;00m\n\u001b[0;32m     13\u001b[0m \u001b[38;5;66;03m# limitations under the License.\u001b[39;00m\n\u001b[0;32m     15\u001b[0m \u001b[38;5;124;03m\"\"\"MediaPipe Python API.\"\"\"\u001b[39;00m\n\u001b[1;32m---> 17\u001b[0m \u001b[38;5;28;01mfrom\u001b[39;00m \u001b[38;5;21;01mmediapipe\u001b[39;00m\u001b[38;5;21;01m.\u001b[39;00m\u001b[38;5;21;01mpython\u001b[39;00m\u001b[38;5;21;01m.\u001b[39;00m\u001b[38;5;21;01m_framework_bindings\u001b[39;00m \u001b[38;5;28;01mimport\u001b[39;00m model_ckpt_util\n\u001b[0;32m     18\u001b[0m \u001b[38;5;28;01mfrom\u001b[39;00m \u001b[38;5;21;01mmediapipe\u001b[39;00m\u001b[38;5;21;01m.\u001b[39;00m\u001b[38;5;21;01mpython\u001b[39;00m\u001b[38;5;21;01m.\u001b[39;00m\u001b[38;5;21;01m_framework_bindings\u001b[39;00m \u001b[38;5;28;01mimport\u001b[39;00m resource_util\n\u001b[0;32m     19\u001b[0m \u001b[38;5;28;01mfrom\u001b[39;00m \u001b[38;5;21;01mmediapipe\u001b[39;00m\u001b[38;5;21;01m.\u001b[39;00m\u001b[38;5;21;01mpython\u001b[39;00m\u001b[38;5;21;01m.\u001b[39;00m\u001b[38;5;21;01m_framework_bindings\u001b[39;00m\u001b[38;5;21;01m.\u001b[39;00m\u001b[38;5;21;01mcalculator_graph\u001b[39;00m \u001b[38;5;28;01mimport\u001b[39;00m CalculatorGraph\n",
      "\u001b[1;31mImportError\u001b[0m: DLL load failed while importing _framework_bindings: A dynamic link library (DLL) initialization routine failed."
     ]
    }
   ],
   "source": [
    "import pandas as pd\n",
    "import tensorflow as tf\n",
    "import numpy as np\n",
    "import cv2\n",
    "import mediapipe as mp\n"
   ]
  },
  {
   "cell_type": "code",
   "execution_count": 31,
   "id": "e44c637f-c10e-4e51-b11b-d8354240b094",
   "metadata": {},
   "outputs": [],
   "source": [
    "df =pd.read_excel(\"wrtWristDataset.xlsx\")"
   ]
  },
  {
   "cell_type": "code",
   "execution_count": 32,
   "id": "1a1bf19d-5a68-4627-9741-8f29dbd861f4",
   "metadata": {},
   "outputs": [
    {
     "name": "stderr",
     "output_type": "stream",
     "text": [
      "C:\\Users\\Ayush\\AppData\\Local\\Programs\\Python\\Python312\\Lib\\site-packages\\keras\\src\\saving\\saving_lib.py:757: UserWarning: Skipping variable loading for optimizer 'rmsprop', because it has 8 variables whereas the saved optimizer has 14 variables. \n",
      "  saveable.load_own_variables(weights_store.get(inner_path))\n"
     ]
    }
   ],
   "source": [
    "model = tf.keras.models.load_model(\"staticGestureANN.keras\")"
   ]
  },
  {
   "cell_type": "code",
   "execution_count": 33,
   "id": "89eabcca-2de7-4ef6-a447-f7a5ca8cdf6f",
   "metadata": {},
   "outputs": [
    {
     "data": {
      "text/html": [
       "<pre style=\"white-space:pre;overflow-x:auto;line-height:normal;font-family:Menlo,'DejaVu Sans Mono',consolas,'Courier New',monospace\"><span style=\"font-weight: bold\">Model: \"sequential\"</span>\n",
       "</pre>\n"
      ],
      "text/plain": [
       "\u001b[1mModel: \"sequential\"\u001b[0m\n"
      ]
     },
     "metadata": {},
     "output_type": "display_data"
    },
    {
     "data": {
      "text/html": [
       "<pre style=\"white-space:pre;overflow-x:auto;line-height:normal;font-family:Menlo,'DejaVu Sans Mono',consolas,'Courier New',monospace\">┏━━━━━━━━━━━━━━━━━━━━━━━━━━━━━━━━━━━━━━┳━━━━━━━━━━━━━━━━━━━━━━━━━━━━━┳━━━━━━━━━━━━━━━━━┓\n",
       "┃<span style=\"font-weight: bold\"> Layer (type)                         </span>┃<span style=\"font-weight: bold\"> Output Shape                </span>┃<span style=\"font-weight: bold\">         Param # </span>┃\n",
       "┡━━━━━━━━━━━━━━━━━━━━━━━━━━━━━━━━━━━━━━╇━━━━━━━━━━━━━━━━━━━━━━━━━━━━━╇━━━━━━━━━━━━━━━━━┩\n",
       "│ dense (<span style=\"color: #0087ff; text-decoration-color: #0087ff\">Dense</span>)                        │ (<span style=\"color: #00d7ff; text-decoration-color: #00d7ff\">None</span>, <span style=\"color: #00af00; text-decoration-color: #00af00\">32</span>)                  │           <span style=\"color: #00af00; text-decoration-color: #00af00\">2,048</span> │\n",
       "├──────────────────────────────────────┼─────────────────────────────┼─────────────────┤\n",
       "│ dense_1 (<span style=\"color: #0087ff; text-decoration-color: #0087ff\">Dense</span>)                      │ (<span style=\"color: #00d7ff; text-decoration-color: #00d7ff\">None</span>, <span style=\"color: #00af00; text-decoration-color: #00af00\">16</span>)                  │             <span style=\"color: #00af00; text-decoration-color: #00af00\">528</span> │\n",
       "├──────────────────────────────────────┼─────────────────────────────┼─────────────────┤\n",
       "│ dense_2 (<span style=\"color: #0087ff; text-decoration-color: #0087ff\">Dense</span>)                      │ (<span style=\"color: #00d7ff; text-decoration-color: #00d7ff\">None</span>, <span style=\"color: #00af00; text-decoration-color: #00af00\">5</span>)                   │              <span style=\"color: #00af00; text-decoration-color: #00af00\">85</span> │\n",
       "└──────────────────────────────────────┴─────────────────────────────┴─────────────────┘\n",
       "</pre>\n"
      ],
      "text/plain": [
       "┏━━━━━━━━━━━━━━━━━━━━━━━━━━━━━━━━━━━━━━┳━━━━━━━━━━━━━━━━━━━━━━━━━━━━━┳━━━━━━━━━━━━━━━━━┓\n",
       "┃\u001b[1m \u001b[0m\u001b[1mLayer (type)                        \u001b[0m\u001b[1m \u001b[0m┃\u001b[1m \u001b[0m\u001b[1mOutput Shape               \u001b[0m\u001b[1m \u001b[0m┃\u001b[1m \u001b[0m\u001b[1m        Param #\u001b[0m\u001b[1m \u001b[0m┃\n",
       "┡━━━━━━━━━━━━━━━━━━━━━━━━━━━━━━━━━━━━━━╇━━━━━━━━━━━━━━━━━━━━━━━━━━━━━╇━━━━━━━━━━━━━━━━━┩\n",
       "│ dense (\u001b[38;5;33mDense\u001b[0m)                        │ (\u001b[38;5;45mNone\u001b[0m, \u001b[38;5;34m32\u001b[0m)                  │           \u001b[38;5;34m2,048\u001b[0m │\n",
       "├──────────────────────────────────────┼─────────────────────────────┼─────────────────┤\n",
       "│ dense_1 (\u001b[38;5;33mDense\u001b[0m)                      │ (\u001b[38;5;45mNone\u001b[0m, \u001b[38;5;34m16\u001b[0m)                  │             \u001b[38;5;34m528\u001b[0m │\n",
       "├──────────────────────────────────────┼─────────────────────────────┼─────────────────┤\n",
       "│ dense_2 (\u001b[38;5;33mDense\u001b[0m)                      │ (\u001b[38;5;45mNone\u001b[0m, \u001b[38;5;34m5\u001b[0m)                   │              \u001b[38;5;34m85\u001b[0m │\n",
       "└──────────────────────────────────────┴─────────────────────────────┴─────────────────┘\n"
      ]
     },
     "metadata": {},
     "output_type": "display_data"
    },
    {
     "data": {
      "text/html": [
       "<pre style=\"white-space:pre;overflow-x:auto;line-height:normal;font-family:Menlo,'DejaVu Sans Mono',consolas,'Courier New',monospace\"><span style=\"font-weight: bold\"> Total params: </span><span style=\"color: #00af00; text-decoration-color: #00af00\">5,324</span> (20.80 KB)\n",
       "</pre>\n"
      ],
      "text/plain": [
       "\u001b[1m Total params: \u001b[0m\u001b[38;5;34m5,324\u001b[0m (20.80 KB)\n"
      ]
     },
     "metadata": {},
     "output_type": "display_data"
    },
    {
     "data": {
      "text/html": [
       "<pre style=\"white-space:pre;overflow-x:auto;line-height:normal;font-family:Menlo,'DejaVu Sans Mono',consolas,'Courier New',monospace\"><span style=\"font-weight: bold\"> Trainable params: </span><span style=\"color: #00af00; text-decoration-color: #00af00\">2,661</span> (10.39 KB)\n",
       "</pre>\n"
      ],
      "text/plain": [
       "\u001b[1m Trainable params: \u001b[0m\u001b[38;5;34m2,661\u001b[0m (10.39 KB)\n"
      ]
     },
     "metadata": {},
     "output_type": "display_data"
    },
    {
     "data": {
      "text/html": [
       "<pre style=\"white-space:pre;overflow-x:auto;line-height:normal;font-family:Menlo,'DejaVu Sans Mono',consolas,'Courier New',monospace\"><span style=\"font-weight: bold\"> Non-trainable params: </span><span style=\"color: #00af00; text-decoration-color: #00af00\">0</span> (0.00 B)\n",
       "</pre>\n"
      ],
      "text/plain": [
       "\u001b[1m Non-trainable params: \u001b[0m\u001b[38;5;34m0\u001b[0m (0.00 B)\n"
      ]
     },
     "metadata": {},
     "output_type": "display_data"
    },
    {
     "data": {
      "text/html": [
       "<pre style=\"white-space:pre;overflow-x:auto;line-height:normal;font-family:Menlo,'DejaVu Sans Mono',consolas,'Courier New',monospace\"><span style=\"font-weight: bold\"> Optimizer params: </span><span style=\"color: #00af00; text-decoration-color: #00af00\">2,663</span> (10.41 KB)\n",
       "</pre>\n"
      ],
      "text/plain": [
       "\u001b[1m Optimizer params: \u001b[0m\u001b[38;5;34m2,663\u001b[0m (10.41 KB)\n"
      ]
     },
     "metadata": {},
     "output_type": "display_data"
    }
   ],
   "source": [
    "model.summary()"
   ]
  },
  {
   "cell_type": "code",
   "execution_count": 34,
   "id": "c1629cae-8c7d-401f-9702-d591810f7916",
   "metadata": {},
   "outputs": [],
   "source": [
    "dfX=df.iloc[:500,:-1]\n",
    "dfY=df.iloc[:500,63]"
   ]
  },
  {
   "cell_type": "code",
   "execution_count": 35,
   "id": "37d3ab39-6f8f-4b3b-ad09-38a96e87bce0",
   "metadata": {},
   "outputs": [
    {
     "data": {
      "text/html": [
       "<div>\n",
       "<style scoped>\n",
       "    .dataframe tbody tr th:only-of-type {\n",
       "        vertical-align: middle;\n",
       "    }\n",
       "\n",
       "    .dataframe tbody tr th {\n",
       "        vertical-align: top;\n",
       "    }\n",
       "\n",
       "    .dataframe thead th {\n",
       "        text-align: right;\n",
       "    }\n",
       "</style>\n",
       "<table border=\"1\" class=\"dataframe\">\n",
       "  <thead>\n",
       "    <tr style=\"text-align: right;\">\n",
       "      <th></th>\n",
       "      <th>x1</th>\n",
       "      <th>y1</th>\n",
       "      <th>z1</th>\n",
       "      <th>x2</th>\n",
       "      <th>y2</th>\n",
       "      <th>z2</th>\n",
       "      <th>x3</th>\n",
       "      <th>y3</th>\n",
       "      <th>z3</th>\n",
       "      <th>x4</th>\n",
       "      <th>...</th>\n",
       "      <th>z18</th>\n",
       "      <th>x19</th>\n",
       "      <th>y19</th>\n",
       "      <th>z19</th>\n",
       "      <th>x20</th>\n",
       "      <th>y20</th>\n",
       "      <th>z20</th>\n",
       "      <th>x21</th>\n",
       "      <th>y21</th>\n",
       "      <th>z21</th>\n",
       "    </tr>\n",
       "  </thead>\n",
       "  <tbody>\n",
       "    <tr>\n",
       "      <th>0</th>\n",
       "      <td>0</td>\n",
       "      <td>0</td>\n",
       "      <td>0</td>\n",
       "      <td>0.027656</td>\n",
       "      <td>0.117735</td>\n",
       "      <td>-0.041585</td>\n",
       "      <td>0.089920</td>\n",
       "      <td>0.244482</td>\n",
       "      <td>-0.065341</td>\n",
       "      <td>0.137451</td>\n",
       "      <td>...</td>\n",
       "      <td>-0.031306</td>\n",
       "      <td>0.247384</td>\n",
       "      <td>-0.014966</td>\n",
       "      <td>-0.062111</td>\n",
       "      <td>0.184938</td>\n",
       "      <td>-0.023627</td>\n",
       "      <td>-0.050100</td>\n",
       "      <td>0.137963</td>\n",
       "      <td>-0.033230</td>\n",
       "      <td>-0.029812</td>\n",
       "    </tr>\n",
       "    <tr>\n",
       "      <th>1</th>\n",
       "      <td>0</td>\n",
       "      <td>0</td>\n",
       "      <td>0</td>\n",
       "      <td>0.027174</td>\n",
       "      <td>0.114758</td>\n",
       "      <td>-0.039163</td>\n",
       "      <td>0.090306</td>\n",
       "      <td>0.231811</td>\n",
       "      <td>-0.060381</td>\n",
       "      <td>0.139029</td>\n",
       "      <td>...</td>\n",
       "      <td>-0.033235</td>\n",
       "      <td>0.235508</td>\n",
       "      <td>-0.019919</td>\n",
       "      <td>-0.062911</td>\n",
       "      <td>0.180376</td>\n",
       "      <td>-0.028315</td>\n",
       "      <td>-0.050870</td>\n",
       "      <td>0.134002</td>\n",
       "      <td>-0.036786</td>\n",
       "      <td>-0.031408</td>\n",
       "    </tr>\n",
       "    <tr>\n",
       "      <th>2</th>\n",
       "      <td>0</td>\n",
       "      <td>0</td>\n",
       "      <td>0</td>\n",
       "      <td>0.023060</td>\n",
       "      <td>0.110442</td>\n",
       "      <td>-0.036392</td>\n",
       "      <td>0.082471</td>\n",
       "      <td>0.228070</td>\n",
       "      <td>-0.053362</td>\n",
       "      <td>0.131637</td>\n",
       "      <td>...</td>\n",
       "      <td>-0.022435</td>\n",
       "      <td>0.226461</td>\n",
       "      <td>-0.011692</td>\n",
       "      <td>-0.054061</td>\n",
       "      <td>0.172691</td>\n",
       "      <td>-0.024926</td>\n",
       "      <td>-0.044744</td>\n",
       "      <td>0.126300</td>\n",
       "      <td>-0.034425</td>\n",
       "      <td>-0.026291</td>\n",
       "    </tr>\n",
       "    <tr>\n",
       "      <th>3</th>\n",
       "      <td>0</td>\n",
       "      <td>0</td>\n",
       "      <td>0</td>\n",
       "      <td>0.019579</td>\n",
       "      <td>0.106047</td>\n",
       "      <td>-0.035291</td>\n",
       "      <td>0.073603</td>\n",
       "      <td>0.217916</td>\n",
       "      <td>-0.049922</td>\n",
       "      <td>0.123446</td>\n",
       "      <td>...</td>\n",
       "      <td>-0.014216</td>\n",
       "      <td>0.222565</td>\n",
       "      <td>-0.005418</td>\n",
       "      <td>-0.043829</td>\n",
       "      <td>0.171407</td>\n",
       "      <td>-0.014996</td>\n",
       "      <td>-0.035921</td>\n",
       "      <td>0.128716</td>\n",
       "      <td>-0.022505</td>\n",
       "      <td>-0.019809</td>\n",
       "    </tr>\n",
       "    <tr>\n",
       "      <th>4</th>\n",
       "      <td>0</td>\n",
       "      <td>0</td>\n",
       "      <td>0</td>\n",
       "      <td>0.019242</td>\n",
       "      <td>0.101097</td>\n",
       "      <td>-0.045785</td>\n",
       "      <td>0.074335</td>\n",
       "      <td>0.210139</td>\n",
       "      <td>-0.065682</td>\n",
       "      <td>0.125403</td>\n",
       "      <td>...</td>\n",
       "      <td>-0.010030</td>\n",
       "      <td>0.218228</td>\n",
       "      <td>-0.027522</td>\n",
       "      <td>-0.021666</td>\n",
       "      <td>0.176175</td>\n",
       "      <td>-0.029715</td>\n",
       "      <td>-0.001345</td>\n",
       "      <td>0.164365</td>\n",
       "      <td>-0.012692</td>\n",
       "      <td>0.018655</td>\n",
       "    </tr>\n",
       "    <tr>\n",
       "      <th>...</th>\n",
       "      <td>...</td>\n",
       "      <td>...</td>\n",
       "      <td>...</td>\n",
       "      <td>...</td>\n",
       "      <td>...</td>\n",
       "      <td>...</td>\n",
       "      <td>...</td>\n",
       "      <td>...</td>\n",
       "      <td>...</td>\n",
       "      <td>...</td>\n",
       "      <td>...</td>\n",
       "      <td>...</td>\n",
       "      <td>...</td>\n",
       "      <td>...</td>\n",
       "      <td>...</td>\n",
       "      <td>...</td>\n",
       "      <td>...</td>\n",
       "      <td>...</td>\n",
       "      <td>...</td>\n",
       "      <td>...</td>\n",
       "      <td>...</td>\n",
       "    </tr>\n",
       "    <tr>\n",
       "      <th>495</th>\n",
       "      <td>0</td>\n",
       "      <td>0</td>\n",
       "      <td>0</td>\n",
       "      <td>0.061657</td>\n",
       "      <td>-0.057137</td>\n",
       "      <td>-0.028604</td>\n",
       "      <td>0.110842</td>\n",
       "      <td>-0.152121</td>\n",
       "      <td>-0.036669</td>\n",
       "      <td>0.146393</td>\n",
       "      <td>...</td>\n",
       "      <td>-0.029861</td>\n",
       "      <td>-0.088342</td>\n",
       "      <td>-0.321481</td>\n",
       "      <td>-0.047621</td>\n",
       "      <td>-0.108860</td>\n",
       "      <td>-0.370933</td>\n",
       "      <td>-0.057183</td>\n",
       "      <td>-0.125331</td>\n",
       "      <td>-0.416397</td>\n",
       "      <td>-0.062404</td>\n",
       "    </tr>\n",
       "    <tr>\n",
       "      <th>496</th>\n",
       "      <td>0</td>\n",
       "      <td>0</td>\n",
       "      <td>0</td>\n",
       "      <td>0.061186</td>\n",
       "      <td>-0.058048</td>\n",
       "      <td>-0.028359</td>\n",
       "      <td>0.110379</td>\n",
       "      <td>-0.151367</td>\n",
       "      <td>-0.036664</td>\n",
       "      <td>0.146240</td>\n",
       "      <td>...</td>\n",
       "      <td>-0.030215</td>\n",
       "      <td>-0.088336</td>\n",
       "      <td>-0.320336</td>\n",
       "      <td>-0.048035</td>\n",
       "      <td>-0.109015</td>\n",
       "      <td>-0.369577</td>\n",
       "      <td>-0.057666</td>\n",
       "      <td>-0.125691</td>\n",
       "      <td>-0.414964</td>\n",
       "      <td>-0.062926</td>\n",
       "    </tr>\n",
       "    <tr>\n",
       "      <th>497</th>\n",
       "      <td>0</td>\n",
       "      <td>0</td>\n",
       "      <td>0</td>\n",
       "      <td>0.060621</td>\n",
       "      <td>-0.058151</td>\n",
       "      <td>-0.028326</td>\n",
       "      <td>0.109753</td>\n",
       "      <td>-0.152166</td>\n",
       "      <td>-0.036493</td>\n",
       "      <td>0.146312</td>\n",
       "      <td>...</td>\n",
       "      <td>-0.030345</td>\n",
       "      <td>-0.088524</td>\n",
       "      <td>-0.321515</td>\n",
       "      <td>-0.048238</td>\n",
       "      <td>-0.109181</td>\n",
       "      <td>-0.370840</td>\n",
       "      <td>-0.057825</td>\n",
       "      <td>-0.125528</td>\n",
       "      <td>-0.416316</td>\n",
       "      <td>-0.062946</td>\n",
       "    </tr>\n",
       "    <tr>\n",
       "      <th>498</th>\n",
       "      <td>0</td>\n",
       "      <td>0</td>\n",
       "      <td>0</td>\n",
       "      <td>0.060512</td>\n",
       "      <td>-0.058277</td>\n",
       "      <td>-0.028182</td>\n",
       "      <td>0.109649</td>\n",
       "      <td>-0.152352</td>\n",
       "      <td>-0.036307</td>\n",
       "      <td>0.146335</td>\n",
       "      <td>...</td>\n",
       "      <td>-0.030464</td>\n",
       "      <td>-0.088520</td>\n",
       "      <td>-0.321553</td>\n",
       "      <td>-0.048215</td>\n",
       "      <td>-0.109157</td>\n",
       "      <td>-0.370798</td>\n",
       "      <td>-0.057737</td>\n",
       "      <td>-0.125505</td>\n",
       "      <td>-0.416264</td>\n",
       "      <td>-0.062857</td>\n",
       "    </tr>\n",
       "    <tr>\n",
       "      <th>499</th>\n",
       "      <td>0</td>\n",
       "      <td>0</td>\n",
       "      <td>0</td>\n",
       "      <td>0.060170</td>\n",
       "      <td>-0.058008</td>\n",
       "      <td>-0.028462</td>\n",
       "      <td>0.109253</td>\n",
       "      <td>-0.151557</td>\n",
       "      <td>-0.036811</td>\n",
       "      <td>0.146009</td>\n",
       "      <td>...</td>\n",
       "      <td>-0.030244</td>\n",
       "      <td>-0.089654</td>\n",
       "      <td>-0.321313</td>\n",
       "      <td>-0.048210</td>\n",
       "      <td>-0.110827</td>\n",
       "      <td>-0.370943</td>\n",
       "      <td>-0.058021</td>\n",
       "      <td>-0.127415</td>\n",
       "      <td>-0.416641</td>\n",
       "      <td>-0.063320</td>\n",
       "    </tr>\n",
       "  </tbody>\n",
       "</table>\n",
       "<p>500 rows × 63 columns</p>\n",
       "</div>"
      ],
      "text/plain": [
       "     x1  y1  z1        x2        y2        z2        x3        y3        z3  \\\n",
       "0     0   0   0  0.027656  0.117735 -0.041585  0.089920  0.244482 -0.065341   \n",
       "1     0   0   0  0.027174  0.114758 -0.039163  0.090306  0.231811 -0.060381   \n",
       "2     0   0   0  0.023060  0.110442 -0.036392  0.082471  0.228070 -0.053362   \n",
       "3     0   0   0  0.019579  0.106047 -0.035291  0.073603  0.217916 -0.049922   \n",
       "4     0   0   0  0.019242  0.101097 -0.045785  0.074335  0.210139 -0.065682   \n",
       "..   ..  ..  ..       ...       ...       ...       ...       ...       ...   \n",
       "495   0   0   0  0.061657 -0.057137 -0.028604  0.110842 -0.152121 -0.036669   \n",
       "496   0   0   0  0.061186 -0.058048 -0.028359  0.110379 -0.151367 -0.036664   \n",
       "497   0   0   0  0.060621 -0.058151 -0.028326  0.109753 -0.152166 -0.036493   \n",
       "498   0   0   0  0.060512 -0.058277 -0.028182  0.109649 -0.152352 -0.036307   \n",
       "499   0   0   0  0.060170 -0.058008 -0.028462  0.109253 -0.151557 -0.036811   \n",
       "\n",
       "           x4  ...       z18       x19       y19       z19       x20  \\\n",
       "0    0.137451  ... -0.031306  0.247384 -0.014966 -0.062111  0.184938   \n",
       "1    0.139029  ... -0.033235  0.235508 -0.019919 -0.062911  0.180376   \n",
       "2    0.131637  ... -0.022435  0.226461 -0.011692 -0.054061  0.172691   \n",
       "3    0.123446  ... -0.014216  0.222565 -0.005418 -0.043829  0.171407   \n",
       "4    0.125403  ... -0.010030  0.218228 -0.027522 -0.021666  0.176175   \n",
       "..        ...  ...       ...       ...       ...       ...       ...   \n",
       "495  0.146393  ... -0.029861 -0.088342 -0.321481 -0.047621 -0.108860   \n",
       "496  0.146240  ... -0.030215 -0.088336 -0.320336 -0.048035 -0.109015   \n",
       "497  0.146312  ... -0.030345 -0.088524 -0.321515 -0.048238 -0.109181   \n",
       "498  0.146335  ... -0.030464 -0.088520 -0.321553 -0.048215 -0.109157   \n",
       "499  0.146009  ... -0.030244 -0.089654 -0.321313 -0.048210 -0.110827   \n",
       "\n",
       "          y20       z20       x21       y21       z21  \n",
       "0   -0.023627 -0.050100  0.137963 -0.033230 -0.029812  \n",
       "1   -0.028315 -0.050870  0.134002 -0.036786 -0.031408  \n",
       "2   -0.024926 -0.044744  0.126300 -0.034425 -0.026291  \n",
       "3   -0.014996 -0.035921  0.128716 -0.022505 -0.019809  \n",
       "4   -0.029715 -0.001345  0.164365 -0.012692  0.018655  \n",
       "..        ...       ...       ...       ...       ...  \n",
       "495 -0.370933 -0.057183 -0.125331 -0.416397 -0.062404  \n",
       "496 -0.369577 -0.057666 -0.125691 -0.414964 -0.062926  \n",
       "497 -0.370840 -0.057825 -0.125528 -0.416316 -0.062946  \n",
       "498 -0.370798 -0.057737 -0.125505 -0.416264 -0.062857  \n",
       "499 -0.370943 -0.058021 -0.127415 -0.416641 -0.063320  \n",
       "\n",
       "[500 rows x 63 columns]"
      ]
     },
     "execution_count": 35,
     "metadata": {},
     "output_type": "execute_result"
    }
   ],
   "source": [
    "dfX"
   ]
  },
  {
   "cell_type": "code",
   "execution_count": 37,
   "id": "f667ecc5-51b8-4ee0-a2a3-c86f1b762297",
   "metadata": {},
   "outputs": [
    {
     "ename": "NameError",
     "evalue": "name 'mp' is not defined",
     "output_type": "error",
     "traceback": [
      "\u001b[1;31m---------------------------------------------------------------------------\u001b[0m",
      "\u001b[1;31mNameError\u001b[0m                                 Traceback (most recent call last)",
      "Cell \u001b[1;32mIn[37], line 1\u001b[0m\n\u001b[1;32m----> 1\u001b[0m mp_hands \u001b[38;5;241m=\u001b[39m \u001b[43mmp\u001b[49m\u001b[38;5;241m.\u001b[39msolutions\u001b[38;5;241m.\u001b[39mhands\n\u001b[0;32m      2\u001b[0m mp_drawing \u001b[38;5;241m=\u001b[39m mp\u001b[38;5;241m.\u001b[39msolutions\u001b[38;5;241m.\u001b[39mdrawing_utils\n\u001b[0;32m      3\u001b[0m hands \u001b[38;5;241m=\u001b[39m mp_hands\u001b[38;5;241m.\u001b[39mHands(min_detection_confidence\u001b[38;5;241m=\u001b[39m\u001b[38;5;241m0.7\u001b[39m, min_tracking_confidence\u001b[38;5;241m=\u001b[39m\u001b[38;5;241m0.7\u001b[39m)\n",
      "\u001b[1;31mNameError\u001b[0m: name 'mp' is not defined"
     ]
    }
   ],
   "source": [
    "mp_hands = mp.solutions.hands\n",
    "mp_drawing = mp.solutions.drawing_utils\n",
    "hands = mp_hands.Hands(min_detection_confidence=0.7, min_tracking_confidence=0.7)"
   ]
  },
  {
   "cell_type": "code",
   "execution_count": null,
   "id": "ae2837b7-3175-4fb6-b8e1-3e1c8b477638",
   "metadata": {},
   "outputs": [],
   "source": []
  }
 ],
 "metadata": {
  "kernelspec": {
   "display_name": "Python 3 (ipykernel)",
   "language": "python",
   "name": "python3"
  },
  "language_info": {
   "codemirror_mode": {
    "name": "ipython",
    "version": 3
   },
   "file_extension": ".py",
   "mimetype": "text/x-python",
   "name": "python",
   "nbconvert_exporter": "python",
   "pygments_lexer": "ipython3",
   "version": "3.12.5"
  }
 },
 "nbformat": 4,
 "nbformat_minor": 5
}
